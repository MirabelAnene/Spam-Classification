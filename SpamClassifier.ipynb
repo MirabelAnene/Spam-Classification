{
  "nbformat": 4,
  "nbformat_minor": 0,
  "metadata": {
    "colab": {
      "provenance": []
    },
    "kernelspec": {
      "name": "python3",
      "display_name": "Python 3"
    },
    "language_info": {
      "name": "python"
    }
  },
  "cells": [
    {
      "cell_type": "code",
      "execution_count": 1,
      "metadata": {
        "id": "wRt_zm8-XW4p"
      },
      "outputs": [],
      "source": [
        "import pandas as pd\n",
        "from sklearn.model_selection import train_test_split\n",
        "from sklearn.feature_extraction.text import CountVectorizer\n",
        "from sklearn import svm\n",
        "import numpy as np\n",
        "import nltk  # Import NLTK\n",
        "from nltk.corpus import stopwords\n",
        "from nltk.tokenize import word_tokenize\n",
        "from nltk.stem import WordNetLemmatizer\n",
        "from sklearn.metrics import accuracy_score\n",
        "\n",
        "from sklearn.ensemble import RandomForestClassifier\n",
        "\n",
        "from sklearn.naive_bayes import MultinomialNB\n",
        "from sklearn.feature_extraction.text import TfidfVectorizer\n",
        "from sklearn.linear_model import LogisticRegression\n",
        "from sklearn.ensemble import StackingClassifier"
      ]
    },
    {
      "cell_type": "markdown",
      "source": [
        "Imported different libraries to split data into test and training, for different models, and for tokenizing.\n"
      ],
      "metadata": {
        "id": "7KqLsaVRn56I"
      }
    },
    {
      "cell_type": "code",
      "source": [
        "nltk.download('stopwords')\n",
        "nltk.download('punkt')\n",
        "nltk.download('wordnet')"
      ],
      "metadata": {
        "colab": {
          "base_uri": "https://localhost:8080/"
        },
        "id": "-74wzgWKXc4_",
        "outputId": "f681b01a-06f2-4cc5-f41c-c726e97eba82"
      },
      "execution_count": 2,
      "outputs": [
        {
          "output_type": "stream",
          "name": "stderr",
          "text": [
            "[nltk_data] Downloading package stopwords to /root/nltk_data...\n",
            "[nltk_data]   Unzipping corpora/stopwords.zip.\n",
            "[nltk_data] Downloading package punkt to /root/nltk_data...\n",
            "[nltk_data]   Unzipping tokenizers/punkt.zip.\n",
            "[nltk_data] Downloading package wordnet to /root/nltk_data...\n"
          ]
        },
        {
          "output_type": "execute_result",
          "data": {
            "text/plain": [
              "True"
            ]
          },
          "metadata": {},
          "execution_count": 2
        }
      ]
    },
    {
      "cell_type": "markdown",
      "source": [],
      "metadata": {
        "id": "eMBeKSNn6ms_"
      }
    },
    {
      "cell_type": "code",
      "source": [
        "spam=pd.read_csv('spam_ham_dataset.csv')"
      ],
      "metadata": {
        "id": "Qrlsira7XliB"
      },
      "execution_count": 3,
      "outputs": []
    },
    {
      "cell_type": "code",
      "source": [
        "z = spam['text']\n",
        "y = spam[\"label\"]\n",
        "z_train, z_test,y_train, y_test = train_test_split(z,y,test_size = 0.3)"
      ],
      "metadata": {
        "id": "fO8XtEfrX1MH"
      },
      "execution_count": 4,
      "outputs": []
    },
    {
      "cell_type": "code",
      "source": [
        "stop_words = set(stopwords.words('english'))"
      ],
      "metadata": {
        "id": "BobTB1I7X-Ur"
      },
      "execution_count": 5,
      "outputs": []
    },
    {
      "cell_type": "code",
      "source": [
        "# Define a lemmatizer\n",
        "lemmatizer = WordNetLemmatizer()\n",
        "\n",
        "# Define a function to perform lemmatization on a text\n",
        "def lemmatize_text(text):\n",
        "    words = word_tokenize(text)\n",
        "    lemmatized_words = [lemmatizer.lemmatize(word) for word in words if word.lower() not in stop_words]\n",
        "    return ' '.join(lemmatized_words)\n",
        "\n",
        "# Apply lemmatization to z_train and z_test\n",
        "z_train = z_train.apply(lemmatize_text)\n",
        "z_test = z_test.apply(lemmatize_text)"
      ],
      "metadata": {
        "id": "33I4X1psm9no"
      },
      "execution_count": 6,
      "outputs": []
    },
    {
      "cell_type": "code",
      "source": [
        "cv = TfidfVectorizer();\n",
        "features_train = cv.fit_transform(z_train)\n",
        "features_test = cv.transform(z_test)"
      ],
      "metadata": {
        "id": "vpfLd7mCYCGR"
      },
      "execution_count": 7,
      "outputs": []
    },
    {
      "cell_type": "markdown",
      "source": [
        "Measures how often a word appears in a document"
      ],
      "metadata": {
        "id": "6CyNIu8q8AfM"
      }
    },
    {
      "cell_type": "code",
      "source": [
        "model = svm.SVC(C=0.4)\n",
        "model2 = RandomForestClassifier(n_estimators=300, max_depth=6, random_state=0)\n",
        "nb_classifier = MultinomialNB()\n",
        "\n",
        "# Create the meta-model\n",
        "meta_model = LogisticRegression(C=0.1)"
      ],
      "metadata": {
        "id": "gEQqxk-AYEOb"
      },
      "execution_count": 8,
      "outputs": []
    },
    {
      "cell_type": "code",
      "source": [
        "stacking_classifier = StackingClassifier(estimators=[('svm', model), ('rf', model2), ('nb', nb_classifier)], final_estimator=meta_model, cv=5)\n",
        "\n",
        "# Train the stacking classifier on the training data\n",
        "stacking_classifier.fit(features_train, y_train)\n"
      ],
      "metadata": {
        "colab": {
          "base_uri": "https://localhost:8080/",
          "height": 164
        },
        "id": "946g1eTcYJJ2",
        "outputId": "0addd893-b19b-4ad2-b8b3-a5e66d541156"
      },
      "execution_count": 9,
      "outputs": [
        {
          "output_type": "execute_result",
          "data": {
            "text/plain": [
              "StackingClassifier(cv=5,\n",
              "                   estimators=[('svm', SVC(C=0.4)),\n",
              "                               ('rf',\n",
              "                                RandomForestClassifier(max_depth=6,\n",
              "                                                       n_estimators=300,\n",
              "                                                       random_state=0)),\n",
              "                               ('nb', MultinomialNB())],\n",
              "                   final_estimator=LogisticRegression(C=0.1))"
            ],
            "text/html": [
              "<style>#sk-container-id-1 {color: black;background-color: white;}#sk-container-id-1 pre{padding: 0;}#sk-container-id-1 div.sk-toggleable {background-color: white;}#sk-container-id-1 label.sk-toggleable__label {cursor: pointer;display: block;width: 100%;margin-bottom: 0;padding: 0.3em;box-sizing: border-box;text-align: center;}#sk-container-id-1 label.sk-toggleable__label-arrow:before {content: \"▸\";float: left;margin-right: 0.25em;color: #696969;}#sk-container-id-1 label.sk-toggleable__label-arrow:hover:before {color: black;}#sk-container-id-1 div.sk-estimator:hover label.sk-toggleable__label-arrow:before {color: black;}#sk-container-id-1 div.sk-toggleable__content {max-height: 0;max-width: 0;overflow: hidden;text-align: left;background-color: #f0f8ff;}#sk-container-id-1 div.sk-toggleable__content pre {margin: 0.2em;color: black;border-radius: 0.25em;background-color: #f0f8ff;}#sk-container-id-1 input.sk-toggleable__control:checked~div.sk-toggleable__content {max-height: 200px;max-width: 100%;overflow: auto;}#sk-container-id-1 input.sk-toggleable__control:checked~label.sk-toggleable__label-arrow:before {content: \"▾\";}#sk-container-id-1 div.sk-estimator input.sk-toggleable__control:checked~label.sk-toggleable__label {background-color: #d4ebff;}#sk-container-id-1 div.sk-label input.sk-toggleable__control:checked~label.sk-toggleable__label {background-color: #d4ebff;}#sk-container-id-1 input.sk-hidden--visually {border: 0;clip: rect(1px 1px 1px 1px);clip: rect(1px, 1px, 1px, 1px);height: 1px;margin: -1px;overflow: hidden;padding: 0;position: absolute;width: 1px;}#sk-container-id-1 div.sk-estimator {font-family: monospace;background-color: #f0f8ff;border: 1px dotted black;border-radius: 0.25em;box-sizing: border-box;margin-bottom: 0.5em;}#sk-container-id-1 div.sk-estimator:hover {background-color: #d4ebff;}#sk-container-id-1 div.sk-parallel-item::after {content: \"\";width: 100%;border-bottom: 1px solid gray;flex-grow: 1;}#sk-container-id-1 div.sk-label:hover label.sk-toggleable__label {background-color: #d4ebff;}#sk-container-id-1 div.sk-serial::before {content: \"\";position: absolute;border-left: 1px solid gray;box-sizing: border-box;top: 0;bottom: 0;left: 50%;z-index: 0;}#sk-container-id-1 div.sk-serial {display: flex;flex-direction: column;align-items: center;background-color: white;padding-right: 0.2em;padding-left: 0.2em;position: relative;}#sk-container-id-1 div.sk-item {position: relative;z-index: 1;}#sk-container-id-1 div.sk-parallel {display: flex;align-items: stretch;justify-content: center;background-color: white;position: relative;}#sk-container-id-1 div.sk-item::before, #sk-container-id-1 div.sk-parallel-item::before {content: \"\";position: absolute;border-left: 1px solid gray;box-sizing: border-box;top: 0;bottom: 0;left: 50%;z-index: -1;}#sk-container-id-1 div.sk-parallel-item {display: flex;flex-direction: column;z-index: 1;position: relative;background-color: white;}#sk-container-id-1 div.sk-parallel-item:first-child::after {align-self: flex-end;width: 50%;}#sk-container-id-1 div.sk-parallel-item:last-child::after {align-self: flex-start;width: 50%;}#sk-container-id-1 div.sk-parallel-item:only-child::after {width: 0;}#sk-container-id-1 div.sk-dashed-wrapped {border: 1px dashed gray;margin: 0 0.4em 0.5em 0.4em;box-sizing: border-box;padding-bottom: 0.4em;background-color: white;}#sk-container-id-1 div.sk-label label {font-family: monospace;font-weight: bold;display: inline-block;line-height: 1.2em;}#sk-container-id-1 div.sk-label-container {text-align: center;}#sk-container-id-1 div.sk-container {/* jupyter's `normalize.less` sets `[hidden] { display: none; }` but bootstrap.min.css set `[hidden] { display: none !important; }` so we also need the `!important` here to be able to override the default hidden behavior on the sphinx rendered scikit-learn.org. See: https://github.com/scikit-learn/scikit-learn/issues/21755 */display: inline-block !important;position: relative;}#sk-container-id-1 div.sk-text-repr-fallback {display: none;}</style><div id=\"sk-container-id-1\" class=\"sk-top-container\"><div class=\"sk-text-repr-fallback\"><pre>StackingClassifier(cv=5,\n",
              "                   estimators=[(&#x27;svm&#x27;, SVC(C=0.4)),\n",
              "                               (&#x27;rf&#x27;,\n",
              "                                RandomForestClassifier(max_depth=6,\n",
              "                                                       n_estimators=300,\n",
              "                                                       random_state=0)),\n",
              "                               (&#x27;nb&#x27;, MultinomialNB())],\n",
              "                   final_estimator=LogisticRegression(C=0.1))</pre><b>In a Jupyter environment, please rerun this cell to show the HTML representation or trust the notebook. <br />On GitHub, the HTML representation is unable to render, please try loading this page with nbviewer.org.</b></div><div class=\"sk-container\" hidden><div class=\"sk-item sk-dashed-wrapped\"><div class=\"sk-label-container\"><div class=\"sk-label sk-toggleable\"><input class=\"sk-toggleable__control sk-hidden--visually\" id=\"sk-estimator-id-1\" type=\"checkbox\" ><label for=\"sk-estimator-id-1\" class=\"sk-toggleable__label sk-toggleable__label-arrow\">StackingClassifier</label><div class=\"sk-toggleable__content\"><pre>StackingClassifier(cv=5,\n",
              "                   estimators=[(&#x27;svm&#x27;, SVC(C=0.4)),\n",
              "                               (&#x27;rf&#x27;,\n",
              "                                RandomForestClassifier(max_depth=6,\n",
              "                                                       n_estimators=300,\n",
              "                                                       random_state=0)),\n",
              "                               (&#x27;nb&#x27;, MultinomialNB())],\n",
              "                   final_estimator=LogisticRegression(C=0.1))</pre></div></div></div><div class=\"sk-serial\"><div class=\"sk-item\"><div class=\"sk-parallel\"><div class=\"sk-parallel-item\"><div class=\"sk-item\"><div class=\"sk-label-container\"><div class=\"sk-label sk-toggleable\"><label>svm</label></div></div><div class=\"sk-serial\"><div class=\"sk-item\"><div class=\"sk-estimator sk-toggleable\"><input class=\"sk-toggleable__control sk-hidden--visually\" id=\"sk-estimator-id-2\" type=\"checkbox\" ><label for=\"sk-estimator-id-2\" class=\"sk-toggleable__label sk-toggleable__label-arrow\">SVC</label><div class=\"sk-toggleable__content\"><pre>SVC(C=0.4)</pre></div></div></div></div></div></div><div class=\"sk-parallel-item\"><div class=\"sk-item\"><div class=\"sk-label-container\"><div class=\"sk-label sk-toggleable\"><label>rf</label></div></div><div class=\"sk-serial\"><div class=\"sk-item\"><div class=\"sk-estimator sk-toggleable\"><input class=\"sk-toggleable__control sk-hidden--visually\" id=\"sk-estimator-id-3\" type=\"checkbox\" ><label for=\"sk-estimator-id-3\" class=\"sk-toggleable__label sk-toggleable__label-arrow\">RandomForestClassifier</label><div class=\"sk-toggleable__content\"><pre>RandomForestClassifier(max_depth=6, n_estimators=300, random_state=0)</pre></div></div></div></div></div></div><div class=\"sk-parallel-item\"><div class=\"sk-item\"><div class=\"sk-label-container\"><div class=\"sk-label sk-toggleable\"><label>nb</label></div></div><div class=\"sk-serial\"><div class=\"sk-item\"><div class=\"sk-estimator sk-toggleable\"><input class=\"sk-toggleable__control sk-hidden--visually\" id=\"sk-estimator-id-4\" type=\"checkbox\" ><label for=\"sk-estimator-id-4\" class=\"sk-toggleable__label sk-toggleable__label-arrow\">MultinomialNB</label><div class=\"sk-toggleable__content\"><pre>MultinomialNB()</pre></div></div></div></div></div></div></div></div><div class=\"sk-item\"><div class=\"sk-parallel\"><div class=\"sk-parallel-item\"><div class=\"sk-item\"><div class=\"sk-label-container\"><div class=\"sk-label sk-toggleable\"><label>final_estimator</label></div></div><div class=\"sk-serial\"><div class=\"sk-item\"><div class=\"sk-estimator sk-toggleable\"><input class=\"sk-toggleable__control sk-hidden--visually\" id=\"sk-estimator-id-5\" type=\"checkbox\" ><label for=\"sk-estimator-id-5\" class=\"sk-toggleable__label sk-toggleable__label-arrow\">LogisticRegression</label><div class=\"sk-toggleable__content\"><pre>LogisticRegression(C=0.1)</pre></div></div></div></div></div></div></div></div></div></div></div></div>"
            ]
          },
          "metadata": {},
          "execution_count": 9
        }
      ]
    },
    {
      "cell_type": "code",
      "source": [
        "print(stacking_classifier.score(features_train, y_train))"
      ],
      "metadata": {
        "colab": {
          "base_uri": "https://localhost:8080/"
        },
        "id": "EfoD6prckzTT",
        "outputId": "ac425674-fbab-471c-e2da-8e3f199c2f39"
      },
      "execution_count": 10,
      "outputs": [
        {
          "output_type": "stream",
          "name": "stdout",
          "text": [
            "0.9980657640232108\n"
          ]
        }
      ]
    },
    {
      "cell_type": "code",
      "source": [
        "# Make predictions on the test data\n",
        "y_pred = stacking_classifier.predict(features_test)\n",
        "print(accuracy_score(y_test,y_pred))\n"
      ],
      "metadata": {
        "colab": {
          "base_uri": "https://localhost:8080/"
        },
        "id": "m0xHh2-5YM-L",
        "outputId": "ccb5297f-90fd-4ac0-9c39-a5bdbef49106"
      },
      "execution_count": 11,
      "outputs": [
        {
          "output_type": "stream",
          "name": "stdout",
          "text": [
            "0.9877577319587629\n"
          ]
        }
      ]
    },
    {
      "cell_type": "code",
      "source": [
        "import matplotlib.pyplot as plt\n",
        "import numpy as np\n",
        "\n",
        "# Function to evaluate and plot the performance of a model\n",
        "# Plotting the results\n",
        "bar_width = 0.35\n",
        "def evaluate_and_plot(model, features_train, y_train, features_test, y_test, label, index):\n",
        "    # Train the model on the training data\n",
        "    model.fit(features_train, y_train)\n",
        "\n",
        "    train_accuracy= model.score(features_train, y_train)\n",
        "    test_accuracy= model.score(features_test, y_test)\n",
        "\n",
        "    plt.bar(index, [train_accuracy, test_accuracy], bar_width, label='Training' if index == 0 else '', color='blue')\n",
        "    plt.bar(index + bar_width, [0, test_accuracy], bar_width, label='Testing' if index == 0 else '', color='yellow')\n",
        "\n",
        "    # Adds text labels for accuracy scores\n",
        "    plt.text(index + bar_width / 2 - 0.1, train_accuracy + 0.02, f'{train_accuracy:.4f}', color='black', fontweight='bold')\n",
        "    plt.text(index + bar_width * 1.5 - 0.1, test_accuracy + 0.02, f'{test_accuracy:.4f}', color='black', fontweight='bold')\n",
        "\n",
        "# Evaluate and plot the base models\n",
        "plt.figure(figsize=(10, 6))  # Set the size of the figure\n",
        "\n",
        "# Index values for positioning the bars\n",
        "index = np.arange(5)\n",
        "\n",
        "evaluate_and_plot(model, features_train, y_train, features_test, y_test, 'SVM', index[0])\n",
        "evaluate_and_plot(model2, features_train, y_train, features_test, y_test, 'RandomForest', index[1])\n",
        "evaluate_and_plot(nb_classifier, features_train, y_train, features_test, y_test, 'NaiveBayes', index[2])\n",
        "evaluate_and_plot(meta_model, features_train, y_train, features_test, y_test, 'Logistic Regression', index[3])\n",
        "evaluate_and_plot(stacking_classifier, features_train, y_train, features_test, y_test, 'Logistic Regression', index[4])\n",
        "\n",
        "\n",
        "# Add labels, title, legend, and adjust layout\n",
        "plt.xlabel('Models')\n",
        "plt.ylabel('Accuracy')\n",
        "plt.title('Base Model Performance Comparison (Training and Testing)')\n",
        "plt.xticks(index + bar_width / 2, ['SVM', 'RandomForest', 'NaiveBayes', 'Logistic Regression', 'Stacking Classifier'])\n",
        "plt.legend(loc='lower right')\n",
        "plt.ylim(0, 1)  # Set y-axis limit between 0 and 1 for accuracy\n",
        "plt.show()\n"
      ],
      "metadata": {
        "colab": {
          "base_uri": "https://localhost:8080/",
          "height": 564
        },
        "id": "X8WT743WQ1ty",
        "outputId": "9a70d297-ff0b-435b-fc66-b00197b6b746"
      },
      "execution_count": 13,
      "outputs": [
        {
          "output_type": "display_data",
          "data": {
            "text/plain": [
              "<Figure size 1000x600 with 1 Axes>"
            ],
            "image/png": "[encoded data removed]"
          },
          "metadata": {}
        }
      ]
    },
    {
      "cell_type": "code",
      "source": [
        "# Define the text to preprocess\n",
        "email_text_to_test = [\"Hey mat, we need to go through with the decision on Friday by the latest .\"]\n",
        "email_text_to_test = [lemmatize_text(text) for text in email_text_to_test]\n",
        "email_features = cv.transform(email_text_to_test)\n",
        "prediction = stacking_classifier.predict(email_features)\n",
        "print(prediction[0])\n",
        "if prediction[0] == \"ham\":\n",
        "    print(\"The email is not spam.\")\n",
        "else:\n",
        "    print(\"The email is spam.\")"
      ],
      "metadata": {
        "colab": {
          "base_uri": "https://localhost:8080/"
        },
        "id": "gFD5DiuzhTvo",
        "outputId": "2cb25007-cfc7-4376-91e1-daa1d0d99e84"
      },
      "execution_count": null,
      "outputs": [
        {
          "output_type": "stream",
          "name": "stdout",
          "text": [
            "ham\n",
            "The email is not spam.\n"
          ]
        }
      ]
    },
    {
      "cell_type": "code",
      "source": [
        "email_text_to_test2 = [\"A virus has been detected on your system. Dial the number and we will quickly resolve this. \"]\n",
        "preprocessed_email_text = [lemmatize_text(text) for text in email_text_to_test2]\n",
        "\n",
        "email_features = cv.transform(preprocessed_email_text)\n",
        "prediction2 = stacking_classifier.predict(email_features)\n",
        "if prediction2[0] == \"ham\":\n",
        "    print(\"The email is not spam.\")\n",
        "else:\n",
        "    print(\"The email is spam.\")"
      ],
      "metadata": {
        "colab": {
          "base_uri": "https://localhost:8080/"
        },
        "id": "CPHfqWGSZYzj",
        "outputId": "bedcda0d-5117-4e56-e2eb-7562613a9465"
      },
      "execution_count": null,
      "outputs": [
        {
          "output_type": "stream",
          "name": "stdout",
          "text": [
            "The email is spam.\n"
          ]
        }
      ]
    },
    {
      "cell_type": "code",
      "source": [
        "# Prompt the user to confirm the prediction\n",
        "user_input = input(\"Was this accurate? (yes/no): \").lower()\n",
        "\n",
        "\n",
        "if user_input == \"yes\":\n",
        "\n",
        "    new_row = {'Body': email_text_to_test[0], 'Label': prediction[0]}\n",
        "    spam = spam.append(new_row, ignore_index=True)\n",
        "\n",
        "else:\n",
        "    # If the user confirms it's spam or provides a different label, add it to the DataFrame with the correct label\n",
        "    correct_label = input(\"Enter the correct label (e.g., 'ham' or 'spam'): \").strip().lower()\n",
        "    new_row = {'Body': email_text_to_test[0], 'Label': correct_label}\n",
        "    spam = spam.append(new_row, ignore_index=True)\n",
        "    print(f\"The email is added as '{correct_label}' to the dataset.\")\n",
        "\n",
        "# Now, df contains the updated dataset with the user's feedback."
      ],
      "metadata": {
        "id": "Ilcm9Sewsj04"
      },
      "execution_count": null,
      "outputs": []
    },
    {
      "cell_type": "markdown",
      "source": [
        "allows user to confirm if the classifier worked or not. It will send the message back into the dataset so the model can train on it."
      ],
      "metadata": {
        "id": "7uRa7Wuysqxa"
      }
    },
    {
      "cell_type": "code",
      "source": [
        "import pickle\n",
        "with open(\"stacking_classifier.pkl\", \"wb\") as f:\n",
        "   pickle.dump(stacking_classifier, f)\n",
        "\n",
        "\n",
        "# to save the fitted tokenizer\n",
        "with open('tokenizer.pickle', 'wb') as handle:\n",
        "    pickle.dump(cv, handle, protocol=pickle.HIGHEST_PROTOCOL)\n",
        "\n"
      ],
      "metadata": {
        "id": "QLAFgsYZVF95"
      },
      "execution_count": null,
      "outputs": []
    }
  ]
}